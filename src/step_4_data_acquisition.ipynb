{
 "cells": [
  {
   "cell_type": "markdown",
   "id": "b2928c64-c813-4a01-bd1e-565f433f16a0",
   "metadata": {},
   "source": [
    "# Step 4 Data Acquision\n",
    "\n",
    "In the first three steps we have laid out the foundation of the project. The next step is to gather data.\n",
    "\n",
    "In real-life projects, data can come from multiple sources such as data lakes, databases, and file sotrage. Each of these sources present unique challenges in terms of data acquision. The typical steps needed to be followed include:\n",
    "\n",
    "**Data Lakes:**\n",
    "- Establish secure connections to cloud storage (AWS S3, Azure Data Lake, GCP)\n",
    "- Handle various file formats (Parquet, Delta, ORC) and compression types\n",
    "- Manage access permissions and data governance policies\n",
    "\n",
    "**Databases:**\n",
    "- Set up database connections with proper authentication\n",
    "- Write optimized queries to extract relevant data subsets or use the existing stored procedures.\n",
    "- In case of large datasets, use pagination or streaming.\n",
    "\n",
    "**File Storage Systems:**\n",
    "- Configure secure file transfer protocols for API endpoints.\n",
    "- Handle different file formats and possible encoding incompatibility.\n",
    "\n",
    "In our project, we'll download the [`Kaggle Credit Card Fraud Detection Dataset`](https://www.kaggle.com/datasets/mlg-ulb/creditcardfraud) and save it in our ../data folder.\n",
    "\n",
    "You can follow the code below, but that requires you to set your API key in Kaggle and save it in a kaggle.json file located at ../kaggle.json. An example of how it should look is below. Otherwise, you can just log in to Kaggle and download the data manually, then place it in the data folder."
   ]
  },
  {
   "cell_type": "code",
   "execution_count": 3,
   "id": "9e922a13-25b1-4325-bd38-91271f55de1c",
   "metadata": {},
   "outputs": [
    {
     "data": {
      "text/plain": [
       "{'username': 'your-kaggle-username', 'key': 'your-kaggle-api-key'}"
      ]
     },
     "execution_count": 3,
     "metadata": {},
     "output_type": "execute_result"
    }
   ],
   "source": [
    "# Sample kaggle.json file content\n",
    "# This should be saved as ../kaggle.json (one level up from the src folder)\n",
    "\n",
    "{\n",
    "    \"username\": \"your-kaggle-username\",\n",
    "    \"key\": \"your-kaggle-api-key\"\n",
    "}"
   ]
  },
  {
   "cell_type": "code",
   "execution_count": 8,
   "id": "ea3ffdf9-bbc1-4745-a142-e20a818380b5",
   "metadata": {},
   "outputs": [
    {
     "name": "stdout",
     "output_type": "stream",
     "text": [
      "Kaggle config exists at: C:\\Users\\ArashNozarinejad\\Documents\\Personal\\GitHub\\credit-card-fraud-detection\\kaggle.json\n",
      "Downloading dataset: mlg-ulb/creditcardfraud\n",
      "Saving to: C:\\Users\\ArashNozarinejad\\Documents\\Personal\\GitHub\\credit-card-fraud-detection\\data\n",
      "Dataset URL: https://www.kaggle.com/datasets/mlg-ulb/creditcardfraud\n",
      "Dataset downloaded successfully!\n"
     ]
    }
   ],
   "source": [
    "import os\n",
    "import kaggle\n",
    "from pathlib import Path\n",
    "import zipfile\n",
    "\n",
    "# Set up path\n",
    "current_dir = Path.cwd()\n",
    "project_root = current_dir.parent\n",
    "data_dir = project_root / \"data\"\n",
    "kaggle_config = project_root / \"kaggle.json\"\n",
    "\n",
    "data_dir.mkdir(exist_ok=True)\n",
    "\n",
    "if kaggle_config.exists():\n",
    "    os.environ['KAGGLE_CONFIG_DIR'] = str(project_root)\n",
    "    print(f\"Kaggle config exists at: {kaggle_config}\")\n",
    "else:\n",
    "    print(f\"Kaggle config not found at: {kaggle_config}\")\n",
    "    print(\"Please create kaggle.json with your API credentials or download manually from Kaggle\")\n",
    "\n",
    "dataset_name = \"mlg-ulb/creditcardfraud\"\n",
    "dataset_file = \"creditcard.csv\"\n",
    "dataset_path = data_dir / dataset_file\n",
    "\n",
    "if dataset_path.exists():\n",
    "    print(f\"Dataset already exists at: {dataset_path}\")\n",
    "else:\n",
    "    try:\n",
    "        print(f\"Downloading dataset: {dataset_name}\")\n",
    "        print(f\"Saving to: {data_dir}\")\n",
    "        \n",
    "        # Download dataset to data directory\n",
    "        kaggle.api.dataset_download_files(\n",
    "            dataset_name, \n",
    "            path=str(data_dir), \n",
    "            unzip=True\n",
    "        )\n",
    "        \n",
    "        if dataset_path.exists():\n",
    "            print(f\"Dataset downloaded successfully!\")\n",
    "        else:\n",
    "            print(f\"Download completed but {dataset_file} not found\")\n",
    "            \n",
    "    except Exception as e:\n",
    "        print(f\"Error downloading dataset: {str(e)}\")\n",
    "        print(\"Please download the dataset manually from Kaggle and place it in the data folder\")"
   ]
  },
  {
   "cell_type": "code",
   "execution_count": null,
   "id": "c5bd030f-9649-4e70-be36-560ae1fd65ab",
   "metadata": {},
   "outputs": [],
   "source": []
  }
 ],
 "metadata": {
  "kernelspec": {
   "display_name": "Python 3 (ipykernel)",
   "language": "python",
   "name": "python3"
  },
  "language_info": {
   "codemirror_mode": {
    "name": "ipython",
    "version": 3
   },
   "file_extension": ".py",
   "mimetype": "text/x-python",
   "name": "python",
   "nbconvert_exporter": "python",
   "pygments_lexer": "ipython3",
   "version": "3.11.5"
  }
 },
 "nbformat": 4,
 "nbformat_minor": 5
}
